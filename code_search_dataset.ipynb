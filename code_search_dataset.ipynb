{
  "nbformat": 4,
  "nbformat_minor": 0,
  "metadata": {
    "colab": {
      "name": "code_search_dataset.ipynb",
      "provenance": [],
      "authorship_tag": "ABX9TyPReTCcGkbKgoDrY9cS8CEB",
      "include_colab_link": true
    },
    "kernelspec": {
      "name": "python3",
      "display_name": "Python 3"
    },
    "language_info": {
      "name": "python"
    }
  },
  "cells": [
    {
      "cell_type": "markdown",
      "metadata": {
        "id": "view-in-github",
        "colab_type": "text"
      },
      "source": [
        "<a href=\"https://colab.research.google.com/github/Dipeshpal/CodeSearch/blob/main/code_search_dataset.ipynb\" target=\"_parent\"><img src=\"https://colab.research.google.com/assets/colab-badge.svg\" alt=\"Open In Colab\"/></a>"
      ]
    },
    {
      "cell_type": "markdown",
      "metadata": {
        "id": "tdDkhs6RUt-8"
      },
      "source": [
        "# https://github.com/github/CodeSearchNet\n",
        "\n",
        "## Data\n",
        "\n",
        "The primary dataset consists of 2 million (comment, code) pairs from open source libraries. Concretely, a comment is a top-level function or method comment (e.g. docstrings in Python), and code is an entire function or method. Currently, the dataset contains Python, Javascript, Ruby, Go, Java, and PHP code. Throughout this repo, we refer to the terms docstring and query interchangeably. We partition the data into train, validation, and test splits such that code from the same repository can only exist in one partition. Currently this is the only dataset on which we train our model. Summary statistics about this dataset can be found in this notebook\n",
        "\n",
        "For more information about how to obtain the data, see this section."
      ]
    },
    {
      "cell_type": "code",
      "metadata": {
        "id": "3D77bgZHPNGZ"
      },
      "source": [
        "import json\n",
        "\n",
        "import pandas as pd\n",
        "from pathlib import Path\n",
        "pd.set_option('max_colwidth',300)\n",
        "from pprint import pprint"
      ],
      "execution_count": 1,
      "outputs": []
    },
    {
      "cell_type": "markdown",
      "metadata": {
        "id": "iDnjPgbPVnQY"
      },
      "source": [
        "## Data Exploration\n",
        "This notebook explores the pre-processed data, and shows some basic statistics that may be useful.\n",
        "\n",
        "\n",
        "## Preview The Dataset\n",
        "Before downloading the entire dataset, it may be useful to explore a small sample in order to understand the format and structure of the data. While the full dataset can be automatically downloaded with the /script/setup script located in this repo, we can alternatively download a subset of the data from S3.\n",
        "\n",
        "### The s3 links follow this pattern:\n",
        "\n",
        "https://s3.amazonaws.com/code-search-net/CodeSearchNet/v2/{python,java,go,php,ruby,javascript}.zip\n",
        "\n",
        "* For example, the link for the python is:\n",
        "\n",
        "https://s3.amazonaws.com/code-search-net/CodeSearchNet/v2/python.zip\n",
        "\n",
        "* First we download and decompress this dataset:"
      ]
    },
    {
      "cell_type": "code",
      "metadata": {
        "colab": {
          "base_uri": "https://localhost:8080/"
        },
        "id": "VdzSFTDNPOBO",
        "outputId": "d54a564f-419f-4c30-e4e9-fffecb6f9821"
      },
      "source": [
        "!wget https://s3.amazonaws.com/code-search-net/CodeSearchNet/v2/python.zip\n",
        "!unzip python.zip"
      ],
      "execution_count": 2,
      "outputs": [
        {
          "output_type": "stream",
          "text": [
            "--2021-06-25 08:15:18--  https://s3.amazonaws.com/code-search-net/CodeSearchNet/v2/python.zip\n",
            "Resolving s3.amazonaws.com (s3.amazonaws.com)... 52.217.136.200\n",
            "Connecting to s3.amazonaws.com (s3.amazonaws.com)|52.217.136.200|:443... connected.\n",
            "HTTP request sent, awaiting response... 200 OK\n",
            "Length: 940909997 (897M) [application/zip]\n",
            "Saving to: ‘python.zip’\n",
            "\n",
            "python.zip          100%[===================>] 897.32M  47.4MB/s    in 20s     \n",
            "\n",
            "2021-06-25 08:15:38 (45.6 MB/s) - ‘python.zip’ saved [940909997/940909997]\n",
            "\n",
            "Archive:  python.zip\n",
            "   creating: python/\n",
            "   creating: python/final/\n",
            "   creating: python/final/jsonl/\n",
            "   creating: python/final/jsonl/train/\n",
            "  inflating: python/final/jsonl/train/python_train_9.jsonl.gz  \n",
            "  inflating: python/final/jsonl/train/python_train_12.jsonl.gz  \n",
            "  inflating: python/final/jsonl/train/python_train_10.jsonl.gz  \n",
            "  inflating: python/final/jsonl/train/python_train_0.jsonl.gz  \n",
            "  inflating: python/final/jsonl/train/python_train_6.jsonl.gz  \n",
            "  inflating: python/final/jsonl/train/python_train_2.jsonl.gz  \n",
            "  inflating: python/final/jsonl/train/python_train_4.jsonl.gz  \n",
            "  inflating: python/final/jsonl/train/python_train_8.jsonl.gz  \n",
            "  inflating: python/final/jsonl/train/python_train_11.jsonl.gz  \n",
            "  inflating: python/final/jsonl/train/python_train_5.jsonl.gz  \n",
            "  inflating: python/final/jsonl/train/python_train_13.jsonl.gz  \n",
            "  inflating: python/final/jsonl/train/python_train_3.jsonl.gz  \n",
            "  inflating: python/final/jsonl/train/python_train_1.jsonl.gz  \n",
            "  inflating: python/final/jsonl/train/python_train_7.jsonl.gz  \n",
            "   creating: python/final/jsonl/test/\n",
            "  inflating: python/final/jsonl/test/python_test_0.jsonl.gz  \n",
            "   creating: python/final/jsonl/valid/\n",
            "  inflating: python/final/jsonl/valid/python_valid_0.jsonl.gz  \n",
            "  inflating: python_dedupe_definitions_v2.pkl  \n",
            "  inflating: python_licenses.pkl     \n"
          ],
          "name": "stdout"
        }
      ]
    },
    {
      "cell_type": "code",
      "metadata": {
        "id": "1T6pJm59PSdR"
      },
      "source": [
        "!gzip -d python/final/jsonl/test/python_test_0.jsonl.gz"
      ],
      "execution_count": 3,
      "outputs": []
    },
    {
      "cell_type": "code",
      "metadata": {
        "colab": {
          "base_uri": "https://localhost:8080/"
        },
        "id": "ONQ-alD4PXDl",
        "outputId": "e2c2e95c-0310-44f2-c0b7-19642edba81d"
      },
      "source": [
        "with open('python/final/jsonl/test/python_test_0.jsonl', 'r') as f:\n",
        "    sample_file = f.readlines()\n",
        "pprint(json.loads(sample_file[0]))"
      ],
      "execution_count": 5,
      "outputs": [
        {
          "output_type": "stream",
          "text": [
            "{'code': 'def get_vid_from_url(url):\\n'\n",
            "         '        \"\"\"Extracts video ID from URL.\\n'\n",
            "         '        \"\"\"\\n'\n",
            "         \"        return match1(url, r'youtu\\\\.be/([^?/]+)') or \\\\\\n\"\n",
            "         \"          match1(url, r'youtube\\\\.com/embed/([^/?]+)') or \\\\\\n\"\n",
            "         \"          match1(url, r'youtube\\\\.com/v/([^/?]+)') or \\\\\\n\"\n",
            "         \"          match1(url, r'youtube\\\\.com/watch/([^/?]+)') or \\\\\\n\"\n",
            "         \"          parse_query_param(url, 'v') or \\\\\\n\"\n",
            "         \"          parse_query_param(parse_query_param(url, 'u'), 'v')\",\n",
            " 'code_tokens': ['def',\n",
            "                 'get_vid_from_url',\n",
            "                 '(',\n",
            "                 'url',\n",
            "                 ')',\n",
            "                 ':',\n",
            "                 'return',\n",
            "                 'match1',\n",
            "                 '(',\n",
            "                 'url',\n",
            "                 ',',\n",
            "                 \"r'youtu\\\\.be/([^?/]+)'\",\n",
            "                 ')',\n",
            "                 'or',\n",
            "                 'match1',\n",
            "                 '(',\n",
            "                 'url',\n",
            "                 ',',\n",
            "                 \"r'youtube\\\\.com/embed/([^/?]+)'\",\n",
            "                 ')',\n",
            "                 'or',\n",
            "                 'match1',\n",
            "                 '(',\n",
            "                 'url',\n",
            "                 ',',\n",
            "                 \"r'youtube\\\\.com/v/([^/?]+)'\",\n",
            "                 ')',\n",
            "                 'or',\n",
            "                 'match1',\n",
            "                 '(',\n",
            "                 'url',\n",
            "                 ',',\n",
            "                 \"r'youtube\\\\.com/watch/([^/?]+)'\",\n",
            "                 ')',\n",
            "                 'or',\n",
            "                 'parse_query_param',\n",
            "                 '(',\n",
            "                 'url',\n",
            "                 ',',\n",
            "                 \"'v'\",\n",
            "                 ')',\n",
            "                 'or',\n",
            "                 'parse_query_param',\n",
            "                 '(',\n",
            "                 'parse_query_param',\n",
            "                 '(',\n",
            "                 'url',\n",
            "                 ',',\n",
            "                 \"'u'\",\n",
            "                 ')',\n",
            "                 ',',\n",
            "                 \"'v'\",\n",
            "                 ')'],\n",
            " 'docstring': 'Extracts video ID from URL.',\n",
            " 'docstring_tokens': ['Extracts', 'video', 'ID', 'from', 'URL', '.'],\n",
            " 'func_name': 'YouTube.get_vid_from_url',\n",
            " 'language': 'python',\n",
            " 'original_string': 'def get_vid_from_url(url):\\n'\n",
            "                    '        \"\"\"Extracts video ID from URL.\\n'\n",
            "                    '        \"\"\"\\n'\n",
            "                    \"        return match1(url, r'youtu\\\\.be/([^?/]+)') or \\\\\\n\"\n",
            "                    \"          match1(url, r'youtube\\\\.com/embed/([^/?]+)') or \"\n",
            "                    '\\\\\\n'\n",
            "                    \"          match1(url, r'youtube\\\\.com/v/([^/?]+)') or \\\\\\n\"\n",
            "                    \"          match1(url, r'youtube\\\\.com/watch/([^/?]+)') or \"\n",
            "                    '\\\\\\n'\n",
            "                    \"          parse_query_param(url, 'v') or \\\\\\n\"\n",
            "                    \"          parse_query_param(parse_query_param(url, 'u'), \"\n",
            "                    \"'v')\",\n",
            " 'partition': 'test',\n",
            " 'path': 'src/you_get/extractors/youtube.py',\n",
            " 'repo': 'soimort/you-get',\n",
            " 'sha': 'b746ac01c9f39de94cac2d56f665285b0523b974',\n",
            " 'url': 'https://github.com/soimort/you-get/blob/b746ac01c9f39de94cac2d56f665285b0523b974/src/you_get/extractors/youtube.py#L135-L143'}\n"
          ],
          "name": "stdout"
        }
      ]
    },
    {
      "cell_type": "code",
      "metadata": {
        "colab": {
          "base_uri": "https://localhost:8080/"
        },
        "id": "_dWJgGxoPb_n",
        "outputId": "af51a7b6-35ae-4b8b-bdd4-ba29ef861b38"
      },
      "source": [
        "python_files = sorted(Path('./python/').glob('**/*.gz'))\n",
        "print(f'Total number of files: {len(python_files):,}')"
      ],
      "execution_count": 7,
      "outputs": [
        {
          "output_type": "stream",
          "text": [
            "Total number of files: 15\n"
          ],
          "name": "stdout"
        }
      ]
    },
    {
      "cell_type": "code",
      "metadata": {
        "id": "W3xg7szlP0CG"
      },
      "source": [
        "columns_long_list = ['repo', 'path', 'url', 'code', \n",
        "                     'code_tokens', 'docstring', 'docstring_tokens', \n",
        "                     'language', 'partition']\n",
        "\n",
        "columns_short_list = ['code_tokens', 'docstring_tokens', \n",
        "                      'language', 'partition']\n",
        "\n",
        "def jsonl_list_to_dataframe(file_list, columns=columns_long_list):\n",
        "    \"\"\"Load a list of jsonl.gz files into a pandas DataFrame.\"\"\"\n",
        "    return pd.concat([pd.read_json(f, \n",
        "                                   orient='records', \n",
        "                                   compression='gzip',\n",
        "                                   lines=True)[columns] \n",
        "                      for f in file_list], sort=False)"
      ],
      "execution_count": 8,
      "outputs": []
    },
    {
      "cell_type": "code",
      "metadata": {
        "id": "BYFF0T0_QEQF"
      },
      "source": [
        "pydf = jsonl_list_to_dataframe(python_files)"
      ],
      "execution_count": 9,
      "outputs": []
    },
    {
      "cell_type": "code",
      "metadata": {
        "colab": {
          "base_uri": "https://localhost:8080/"
        },
        "id": "zLfTFLmMRKeg",
        "outputId": "78f8d470-3de6-4eba-cd7b-2f325a67642a"
      },
      "source": [
        "pydf.shape"
      ],
      "execution_count": 14,
      "outputs": [
        {
          "output_type": "execute_result",
          "data": {
            "text/plain": [
              "(435285, 9)"
            ]
          },
          "metadata": {
            "tags": []
          },
          "execution_count": 14
        }
      ]
    },
    {
      "cell_type": "code",
      "metadata": {
        "colab": {
          "base_uri": "https://localhost:8080/",
          "height": 978
        },
        "id": "c5PEe-QfQG9-",
        "outputId": "8af60b13-f1b8-4a5c-ad6b-eb96be158f44"
      },
      "source": [
        "pydf.head(3)"
      ],
      "execution_count": 10,
      "outputs": [
        {
          "output_type": "execute_result",
          "data": {
            "text/html": [
              "<div>\n",
              "<style scoped>\n",
              "    .dataframe tbody tr th:only-of-type {\n",
              "        vertical-align: middle;\n",
              "    }\n",
              "\n",
              "    .dataframe tbody tr th {\n",
              "        vertical-align: top;\n",
              "    }\n",
              "\n",
              "    .dataframe thead th {\n",
              "        text-align: right;\n",
              "    }\n",
              "</style>\n",
              "<table border=\"1\" class=\"dataframe\">\n",
              "  <thead>\n",
              "    <tr style=\"text-align: right;\">\n",
              "      <th></th>\n",
              "      <th>repo</th>\n",
              "      <th>path</th>\n",
              "      <th>url</th>\n",
              "      <th>code</th>\n",
              "      <th>code_tokens</th>\n",
              "      <th>docstring</th>\n",
              "      <th>docstring_tokens</th>\n",
              "      <th>language</th>\n",
              "      <th>partition</th>\n",
              "    </tr>\n",
              "  </thead>\n",
              "  <tbody>\n",
              "    <tr>\n",
              "      <th>0</th>\n",
              "      <td>ageitgey/face_recognition</td>\n",
              "      <td>examples/face_recognition_knn.py</td>\n",
              "      <td>https://github.com/ageitgey/face_recognition/blob/c96b010c02f15e8eeb0f71308c641179ac1f19bb/examples/face_recognition_knn.py#L46-L108</td>\n",
              "      <td>def train(train_dir, model_save_path=None, n_neighbors=None, knn_algo='ball_tree', verbose=False):\\n    \"\"\"\\n    Trains a k-nearest neighbors classifier for face recognition.\\n\\n    :param train_dir: directory that contains a sub-directory for each known person, with its name.\\n\\n     (View in s...</td>\n",
              "      <td>[def, train, (, train_dir, ,, model_save_path, =, None, ,, n_neighbors, =, None, ,, knn_algo, =, 'ball_tree', ,, verbose, =, False, ), :, X, =, [, ], y, =, [, ], # Loop through each person in the training set, for, class_dir, in, os, ., listdir, (, train_dir, ), :, if, not, os, ., path, ., isdir...</td>\n",
              "      <td>Trains a k-nearest neighbors classifier for face recognition.\\n\\n    :param train_dir: directory that contains a sub-directory for each known person, with its name.\\n\\n     (View in source code to see train_dir example tree structure)\\n\\n     Structure:\\n        &lt;train_dir&gt;/\\n        ├── &lt;person...</td>\n",
              "      <td>[Trains, a, k, -, nearest, neighbors, classifier, for, face, recognition, .]</td>\n",
              "      <td>python</td>\n",
              "      <td>train</td>\n",
              "    </tr>\n",
              "    <tr>\n",
              "      <th>1</th>\n",
              "      <td>ageitgey/face_recognition</td>\n",
              "      <td>examples/face_recognition_knn.py</td>\n",
              "      <td>https://github.com/ageitgey/face_recognition/blob/c96b010c02f15e8eeb0f71308c641179ac1f19bb/examples/face_recognition_knn.py#L111-L150</td>\n",
              "      <td>def predict(X_img_path, knn_clf=None, model_path=None, distance_threshold=0.6):\\n    \"\"\"\\n    Recognizes faces in given image using a trained KNN classifier\\n\\n    :param X_img_path: path to image to be recognized\\n    :param knn_clf: (optional) a knn classifier object. if not specified, model_s...</td>\n",
              "      <td>[def, predict, (, X_img_path, ,, knn_clf, =, None, ,, model_path, =, None, ,, distance_threshold, =, 0.6, ), :, if, not, os, ., path, ., isfile, (, X_img_path, ), or, os, ., path, ., splitext, (, X_img_path, ), [, 1, ], [, 1, :, ], not, in, ALLOWED_EXTENSIONS, :, raise, Exception, (, \"Invalid im...</td>\n",
              "      <td>Recognizes faces in given image using a trained KNN classifier\\n\\n    :param X_img_path: path to image to be recognized\\n    :param knn_clf: (optional) a knn classifier object. if not specified, model_save_path must be specified.\\n    :param model_path: (optional) path to a pickled knn classifie...</td>\n",
              "      <td>[Recognizes, faces, in, given, image, using, a, trained, KNN, classifier]</td>\n",
              "      <td>python</td>\n",
              "      <td>train</td>\n",
              "    </tr>\n",
              "    <tr>\n",
              "      <th>2</th>\n",
              "      <td>ageitgey/face_recognition</td>\n",
              "      <td>examples/face_recognition_knn.py</td>\n",
              "      <td>https://github.com/ageitgey/face_recognition/blob/c96b010c02f15e8eeb0f71308c641179ac1f19bb/examples/face_recognition_knn.py#L153-L181</td>\n",
              "      <td>def show_prediction_labels_on_image(img_path, predictions):\\n    \"\"\"\\n    Shows the face recognition results visually.\\n\\n    :param img_path: path to image to be recognized\\n    :param predictions: results of the predict function\\n    :return:\\n    \"\"\"\\n    pil_image = Image.open(img_path).conv...</td>\n",
              "      <td>[def, show_prediction_labels_on_image, (, img_path, ,, predictions, ), :, pil_image, =, Image, ., open, (, img_path, ), ., convert, (, \"RGB\", ), draw, =, ImageDraw, ., Draw, (, pil_image, ), for, name, ,, (, top, ,, right, ,, bottom, ,, left, ), in, predictions, :, # Draw a box around the face u...</td>\n",
              "      <td>Shows the face recognition results visually.\\n\\n    :param img_path: path to image to be recognized\\n    :param predictions: results of the predict function\\n    :return:</td>\n",
              "      <td>[Shows, the, face, recognition, results, visually, .]</td>\n",
              "      <td>python</td>\n",
              "      <td>train</td>\n",
              "    </tr>\n",
              "  </tbody>\n",
              "</table>\n",
              "</div>"
            ],
            "text/plain": [
              "                        repo  ... partition\n",
              "0  ageitgey/face_recognition  ...     train\n",
              "1  ageitgey/face_recognition  ...     train\n",
              "2  ageitgey/face_recognition  ...     train\n",
              "\n",
              "[3 rows x 9 columns]"
            ]
          },
          "metadata": {
            "tags": []
          },
          "execution_count": 10
        }
      ]
    }
  ]
}